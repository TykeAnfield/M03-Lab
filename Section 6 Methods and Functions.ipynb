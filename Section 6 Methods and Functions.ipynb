{
 "cells": [
  {
   "cell_type": "code",
   "execution_count": 34,
   "id": "05f77da6",
   "metadata": {},
   "outputs": [],
   "source": [
    "def vol(rad):\n",
    "    return (4/3)*(3.14)*(rad**3)"
   ]
  },
  {
   "cell_type": "code",
   "execution_count": 35,
   "id": "70abde51",
   "metadata": {},
   "outputs": [
    {
     "data": {
      "text/plain": [
       "33.49333333333333"
      ]
     },
     "execution_count": 35,
     "metadata": {},
     "output_type": "execute_result"
    }
   ],
   "source": [
    "vol(2)"
   ]
  },
  {
   "cell_type": "markdown",
   "id": "80e8bd0f",
   "metadata": {},
   "source": [
    "Write a function that check whether a number is in a given range"
   ]
  },
  {
   "cell_type": "code",
   "execution_count": 44,
   "id": "adc1b674",
   "metadata": {},
   "outputs": [],
   "source": [
    "def ran_check(num,low,high):\n",
    "    if num in range(low,high+1):\n",
    "        print(f\" {num} is in range of {low} and {high}\")\n",
    "    else:\n",
    "        print('not in range')"
   ]
  },
  {
   "cell_type": "code",
   "execution_count": 45,
   "id": "a59f75d2",
   "metadata": {},
   "outputs": [
    {
     "name": "stdout",
     "output_type": "stream",
     "text": [
      " 5 is in range of 2 and 7\n"
     ]
    }
   ],
   "source": [
    "ran_check(5,2,7)"
   ]
  },
  {
   "cell_type": "markdown",
   "id": "f2f580bf",
   "metadata": {},
   "source": [
    "Write a pthon function that acccepts a sting and calculates the number of upper case letters and lower case letters"
   ]
  },
  {
   "cell_type": "code",
   "execution_count": 62,
   "id": "7a5da160",
   "metadata": {},
   "outputs": [],
   "source": [
    "def up_low(s):\n",
    "    upper = 0\n",
    "    lower = 0\n",
    "    \n",
    "    for char in s:\n",
    "        if char.isupper():\n",
    "            upper +=1\n",
    "        elif char.islower():\n",
    "            lower +=1\n",
    "        else:\n",
    "            pass\n",
    "\n",
    "    print(f'string: {s}')\n",
    "    print(f'Uppercase count: {upper}')\n",
    "    print(f'lowercase count: {lower}')  \n",
    "           "
   ]
  },
  {
   "cell_type": "code",
   "execution_count": 63,
   "id": "b622f58c",
   "metadata": {},
   "outputs": [
    {
     "name": "stdout",
     "output_type": "stream",
     "text": [
      "string: Hello Mr. Rogers, how are you this fine Tuesday\n",
      "Uppercase count: 4\n",
      "lowercase count: 33\n"
     ]
    }
   ],
   "source": [
    "s = 'Hello Mr. Rogers, how are you this fine Tuesday'\n",
    "up_low(s)"
   ]
  },
  {
   "cell_type": "markdown",
   "id": "14cad878",
   "metadata": {},
   "source": [
    "Write a Python function that take a list and returns a new list with unique elements of the list"
   ]
  },
  {
   "cell_type": "code",
   "execution_count": 64,
   "id": "9be8a981",
   "metadata": {},
   "outputs": [],
   "source": [
    "def unique_list(lst):\n",
    "    return list(set(lst))"
   ]
  },
  {
   "cell_type": "code",
   "execution_count": 65,
   "id": "c161b528",
   "metadata": {},
   "outputs": [
    {
     "data": {
      "text/plain": [
       "[1, 2, 3, 4, 5]"
      ]
     },
     "execution_count": 65,
     "metadata": {},
     "output_type": "execute_result"
    }
   ],
   "source": [
    "unique_list([1,1,1,1,2,2,3,3,3,3,4,5])"
   ]
  },
  {
   "cell_type": "markdown",
   "id": "f0672766",
   "metadata": {},
   "source": [
    "wre a function to multiply all the numbers in a list"
   ]
  },
  {
   "cell_type": "code",
   "execution_count": 66,
   "id": "031fd27f",
   "metadata": {},
   "outputs": [],
   "source": [
    "def multiply(numbers):\n",
    "    total = 1\n",
    "    for num in numbers:\n",
    "        total = total * num\n",
    "    return total"
   ]
  },
  {
   "cell_type": "code",
   "execution_count": 67,
   "id": "9119749a",
   "metadata": {},
   "outputs": [
    {
     "data": {
      "text/plain": [
       "-24"
      ]
     },
     "execution_count": 67,
     "metadata": {},
     "output_type": "execute_result"
    }
   ],
   "source": [
    "multiply([1,2,3,-4])"
   ]
  },
  {
   "cell_type": "markdown",
   "id": "40a054ed",
   "metadata": {},
   "source": [
    "write a function that check whether a work or phrase is a palindorme or not."
   ]
  },
  {
   "cell_type": "code",
   "execution_count": 76,
   "id": "e1430993",
   "metadata": {},
   "outputs": [],
   "source": [
    "def palindrome(s):\n",
    "    s= s.replace(' ','')\n",
    "    \n",
    "    return s == s[::-1]\n",
    "    "
   ]
  },
  {
   "cell_type": "code",
   "execution_count": 77,
   "id": "e68fb13f",
   "metadata": {},
   "outputs": [
    {
     "data": {
      "text/plain": [
       "True"
      ]
     },
     "execution_count": 77,
     "metadata": {},
     "output_type": "execute_result"
    }
   ],
   "source": [
    "palindrome('nurses run')"
   ]
  },
  {
   "cell_type": "markdown",
   "id": "322f7b22",
   "metadata": {},
   "source": [
    "Write a function to check whether a sring is pangram or not"
   ]
  },
  {
   "cell_type": "code",
   "execution_count": 79,
   "id": "cc4c1f00",
   "metadata": {},
   "outputs": [],
   "source": [
    "import string\n",
    "\n",
    "def ispangram(str1, alphabet=string.ascii_lowercase):\n",
    "    \n",
    "    alphaset = set(alphabet)\n",
    "    str1 = str1.replace(' ', '')\n",
    "    str1 = str1.lower()\n",
    "    str1= set(str1)\n",
    "    return str1 == alphaset"
   ]
  },
  {
   "cell_type": "code",
   "execution_count": 80,
   "id": "d0ecfa05",
   "metadata": {},
   "outputs": [
    {
     "data": {
      "text/plain": [
       "True"
      ]
     },
     "execution_count": 80,
     "metadata": {},
     "output_type": "execute_result"
    }
   ],
   "source": [
    "ispangram(\"The quick brown fox jumps over the lazy dog\")"
   ]
  },
  {
   "cell_type": "code",
   "execution_count": 81,
   "id": "ea2f2774",
   "metadata": {},
   "outputs": [
    {
     "data": {
      "text/plain": [
       "'abcdefghijklmnopqrstuvwxyz'"
      ]
     },
     "execution_count": 81,
     "metadata": {},
     "output_type": "execute_result"
    }
   ],
   "source": [
    "string.ascii_lowercase"
   ]
  },
  {
   "cell_type": "code",
   "execution_count": null,
   "id": "2e53b13f",
   "metadata": {},
   "outputs": [],
   "source": []
  }
 ],
 "metadata": {
  "kernelspec": {
   "display_name": "Python 3 (ipykernel)",
   "language": "python",
   "name": "python3"
  },
  "language_info": {
   "codemirror_mode": {
    "name": "ipython",
    "version": 3
   },
   "file_extension": ".py",
   "mimetype": "text/x-python",
   "name": "python",
   "nbconvert_exporter": "python",
   "pygments_lexer": "ipython3",
   "version": "3.9.13"
  }
 },
 "nbformat": 4,
 "nbformat_minor": 5
}
